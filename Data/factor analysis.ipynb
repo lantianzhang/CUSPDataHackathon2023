{
 "cells": [
  {
   "cell_type": "markdown",
   "id": "cf943dc4",
   "metadata": {},
   "source": [
    "### 因子分析步骤\n",
    "1. 对所给的数据样本进行标准化处理\n",
    "\n",
    "2. 计算样本的相关矩阵R\n",
    "\n",
    "3. 求相关矩阵R的特征值、特征向量\n",
    "\n",
    "4. 根据系统要求的累积贡献度确定主因子的个数\n",
    "\n",
    "5. 计算因子载荷矩阵A\n",
    "\n",
    "6. 最终确定因子模型"
   ]
  },
  {
   "cell_type": "code",
   "execution_count": 1,
   "id": "dbcca1d3",
   "metadata": {},
   "outputs": [],
   "source": [
    "import factor_analyzer"
   ]
  },
  {
   "cell_type": "code",
   "execution_count": 2,
   "id": "0bd02888",
   "metadata": {},
   "outputs": [],
   "source": [
    "import pandas as pd\n",
    "import numpy as np\n",
    "\n",
    "import seaborn as sns\n",
    "import matplotlib.pyplot as plt\n",
    "\n",
    "from factor_analyzer import FactorAnalyzer"
   ]
  },
  {
   "cell_type": "code",
   "execution_count": 3,
   "id": "afd8cac3",
   "metadata": {},
   "outputs": [],
   "source": [
    "df = pd.read_csv('NYC_Bgrp_Geocoded.csv')"
   ]
  },
  {
   "cell_type": "code",
   "execution_count": 5,
   "id": "e7639b1e",
   "metadata": {},
   "outputs": [
    {
     "data": {
      "text/plain": [
       "Index(['geometry', 'tesctyscor', 'priority', 'core_m', 'asthma', 'area',\n",
       "       'tc_gap', 'tes', 'geoid', 'total_pop', 'bgpopdense', 'healthnorm',\n",
       "       'phys_hlth', 'child_perc', 'congressio', 'core_w', 'avg_temp', 'source',\n",
       "       'treecanopy', 'pctpoc', 'seniorperc', 'unemplrate', 'dep_ratio',\n",
       "       'state', 'pctpov', 'county', 'ment_hlth', 'tc_goal', 'medhhinc',\n",
       "       'core_norm', 'popadjust', 'biome', 'ua_name', 'incorpname'],\n",
       "      dtype='object')"
      ]
     },
     "execution_count": 5,
     "metadata": {},
     "output_type": "execute_result"
    }
   ],
   "source": [
    "df.columns"
   ]
  },
  {
   "cell_type": "markdown",
   "id": "ef3a2634",
   "metadata": {},
   "source": [
    "### useful columns\n",
    "1. 待补充贫困人口数据\n",
    "2. pctpoc：有色人口百分比\n",
    "3. unemplrate： 失业率\n",
    "4. dep_ratio：(老人+孩子)/(18到64岁人口)\n",
    "5. child_perc：块组内的孩子的百分比\n",
    "6. seniorperc：区块组内的老年人百分比\n",
    "7. avg_temp：炎热夏日区块组的平均温度\n",
    "8. phys_hlth：区块组中人们自我报告的身体健康挑战（百分比）\n",
    "9. asthma：街区组人员自我报告的哮喘挑战（百分比）\n",
    "10. core_m：街区组中男性自我报告的男性冠心病（百分比）\n",
    "11. core_w：街区组中女性自我报告的女性冠心病（百分比）"
   ]
  },
  {
   "cell_type": "code",
   "execution_count": 18,
   "id": "287febc4",
   "metadata": {},
   "outputs": [],
   "source": [
    "df_t = df[['pctpoc', 'unemplrate', 'dep_ratio', 'child_perc', 'seniorperc',\n",
    "          'avg_temp', 'phys_hlth', 'asthma', 'core_m', 'core_w']]"
   ]
  },
  {
   "cell_type": "code",
   "execution_count": 19,
   "id": "d7904c30",
   "metadata": {},
   "outputs": [
    {
     "data": {
      "text/plain": [
       "pctpoc        0\n",
       "unemplrate    0\n",
       "dep_ratio     0\n",
       "child_perc    0\n",
       "seniorperc    0\n",
       "avg_temp      0\n",
       "phys_hlth     9\n",
       "asthma        9\n",
       "core_m        9\n",
       "core_w        9\n",
       "dtype: int64"
      ]
     },
     "execution_count": 19,
     "metadata": {},
     "output_type": "execute_result"
    }
   ],
   "source": [
    "df_t.isnull().sum()"
   ]
  },
  {
   "cell_type": "code",
   "execution_count": 20,
   "id": "58899462",
   "metadata": {},
   "outputs": [],
   "source": [
    "df_t = df_t.dropna()"
   ]
  },
  {
   "cell_type": "code",
   "execution_count": 21,
   "id": "391880f3",
   "metadata": {},
   "outputs": [
    {
     "data": {
      "text/plain": [
       "pctpoc        0\n",
       "unemplrate    0\n",
       "dep_ratio     0\n",
       "child_perc    0\n",
       "seniorperc    0\n",
       "avg_temp      0\n",
       "phys_hlth     0\n",
       "asthma        0\n",
       "core_m        0\n",
       "core_w        0\n",
       "dtype: int64"
      ]
     },
     "execution_count": 21,
     "metadata": {},
     "output_type": "execute_result"
    }
   ],
   "source": [
    "df_t.isnull().sum()"
   ]
  },
  {
   "cell_type": "markdown",
   "id": "717675a4",
   "metadata": {},
   "source": [
    "Bartlett's检验\n",
    "p=0 拒绝原假设（原假设：相关性矩阵为单位矩阵，即对角线1，其它都为0），说明数据特征存在相关性，适合进行因子分析"
   ]
  },
  {
   "cell_type": "code",
   "execution_count": 22,
   "id": "b8574987",
   "metadata": {},
   "outputs": [
    {
     "data": {
      "text/plain": [
       "(39160.141474716256, 0.0)"
      ]
     },
     "execution_count": 22,
     "metadata": {},
     "output_type": "execute_result"
    }
   ],
   "source": [
    "from factor_analyzer.factor_analyzer import calculate_bartlett_sphericity\n",
    " \n",
    "chi_square_value, p_value = calculate_bartlett_sphericity(df_t)\n",
    "chi_square_value, p_value"
   ]
  },
  {
   "cell_type": "markdown",
   "id": "a4f89e30",
   "metadata": {},
   "source": [
    "KMO检验 取值0-1，越接近1特征间相关性越强，一般需要大于0.6开始因子分析，此处>0.6, 适用因子分析"
   ]
  },
  {
   "cell_type": "code",
   "execution_count": 23,
   "id": "b7442805",
   "metadata": {},
   "outputs": [
    {
     "data": {
      "text/plain": [
       "0.7482047555634286"
      ]
     },
     "execution_count": 23,
     "metadata": {},
     "output_type": "execute_result"
    }
   ],
   "source": [
    "#KMO检验\n",
    "from factor_analyzer.factor_analyzer import calculate_kmo\n",
    "kmo_all,kmo_model=calculate_kmo(df_t)\n",
    "kmo_model"
   ]
  },
  {
   "cell_type": "code",
   "execution_count": 25,
   "id": "fe10ef06",
   "metadata": {},
   "outputs": [
    {
     "data": {
      "image/png": "[encoded data removed]",
      "text/plain": [
       "<Figure size 640x480 with 1 Axes>"
      ]
     },
     "metadata": {},
     "output_type": "display_data"
    }
   ],
   "source": [
    "faa = FactorAnalyzer(25,rotation=None)\n",
    "faa.fit(df_t)\n",
    " \n",
    "ev,v=faa.get_eigenvalues()\n",
    "\n",
    "plt.scatter(range(1, df_t.shape[1] + 1), ev)\n",
    "plt.plot(range(1, df_t.shape[1] + 1), ev)\n",
    " \n",
    "plt.title(\"Scree Plot\")  \n",
    "plt.xlabel(\"Factors\")\n",
    "plt.ylabel(\"Eigenvalue\")\n",
    " \n",
    "plt.grid()\n",
    "plt.show()"
   ]
  },
  {
   "cell_type": "markdown",
   "id": "e196f4fd",
   "metadata": {},
   "source": [
    "根据特征可以判断Factors数量3或4个即可，为示意此处选择两个"
   ]
  },
  {
   "cell_type": "code",
   "execution_count": 33,
   "id": "f8c26ec3",
   "metadata": {},
   "outputs": [
    {
     "data": {
      "text/html": [
       "<style>#sk-container-id-4 {color: black;background-color: white;}#sk-container-id-4 pre{padding: 0;}#sk-container-id-4 div.sk-toggleable {background-color: white;}#sk-container-id-4 label.sk-toggleable__label {cursor: pointer;display: block;width: 100%;margin-bottom: 0;padding: 0.3em;box-sizing: border-box;text-align: center;}#sk-container-id-4 label.sk-toggleable__label-arrow:before {content: \"▸\";float: left;margin-right: 0.25em;color: #696969;}#sk-container-id-4 label.sk-toggleable__label-arrow:hover:before {color: black;}#sk-container-id-4 div.sk-estimator:hover label.sk-toggleable__label-arrow:before {color: black;}#sk-container-id-4 div.sk-toggleable__content {max-height: 0;max-width: 0;overflow: hidden;text-align: left;background-color: #f0f8ff;}#sk-container-id-4 div.sk-toggleable__content pre {margin: 0.2em;color: black;border-radius: 0.25em;background-color: #f0f8ff;}#sk-container-id-4 input.sk-toggleable__control:checked~div.sk-toggleable__content {max-height: 200px;max-width: 100%;overflow: auto;}#sk-container-id-4 input.sk-toggleable__control:checked~label.sk-toggleable__label-arrow:before {content: \"▾\";}#sk-container-id-4 div.sk-estimator input.sk-toggleable__control:checked~label.sk-toggleable__label {background-color: #d4ebff;}#sk-container-id-4 div.sk-label input.sk-toggleable__control:checked~label.sk-toggleable__label {background-color: #d4ebff;}#sk-container-id-4 input.sk-hidden--visually {border: 0;clip: rect(1px 1px 1px 1px);clip: rect(1px, 1px, 1px, 1px);height: 1px;margin: -1px;overflow: hidden;padding: 0;position: absolute;width: 1px;}#sk-container-id-4 div.sk-estimator {font-family: monospace;background-color: #f0f8ff;border: 1px dotted black;border-radius: 0.25em;box-sizing: border-box;margin-bottom: 0.5em;}#sk-container-id-4 div.sk-estimator:hover {background-color: #d4ebff;}#sk-container-id-4 div.sk-parallel-item::after {content: \"\";width: 100%;border-bottom: 1px solid gray;flex-grow: 1;}#sk-container-id-4 div.sk-label:hover label.sk-toggleable__label {background-color: #d4ebff;}#sk-container-id-4 div.sk-serial::before {content: \"\";position: absolute;border-left: 1px solid gray;box-sizing: border-box;top: 0;bottom: 0;left: 50%;z-index: 0;}#sk-container-id-4 div.sk-serial {display: flex;flex-direction: column;align-items: center;background-color: white;padding-right: 0.2em;padding-left: 0.2em;position: relative;}#sk-container-id-4 div.sk-item {position: relative;z-index: 1;}#sk-container-id-4 div.sk-parallel {display: flex;align-items: stretch;justify-content: center;background-color: white;position: relative;}#sk-container-id-4 div.sk-item::before, #sk-container-id-4 div.sk-parallel-item::before {content: \"\";position: absolute;border-left: 1px solid gray;box-sizing: border-box;top: 0;bottom: 0;left: 50%;z-index: -1;}#sk-container-id-4 div.sk-parallel-item {display: flex;flex-direction: column;z-index: 1;position: relative;background-color: white;}#sk-container-id-4 div.sk-parallel-item:first-child::after {align-self: flex-end;width: 50%;}#sk-container-id-4 div.sk-parallel-item:last-child::after {align-self: flex-start;width: 50%;}#sk-container-id-4 div.sk-parallel-item:only-child::after {width: 0;}#sk-container-id-4 div.sk-dashed-wrapped {border: 1px dashed gray;margin: 0 0.4em 0.5em 0.4em;box-sizing: border-box;padding-bottom: 0.4em;background-color: white;}#sk-container-id-4 div.sk-label label {font-family: monospace;font-weight: bold;display: inline-block;line-height: 1.2em;}#sk-container-id-4 div.sk-label-container {text-align: center;}#sk-container-id-4 div.sk-container {/* jupyter's `normalize.less` sets `[hidden] { display: none; }` but bootstrap.min.css set `[hidden] { display: none !important; }` so we also need the `!important` here to be able to override the default hidden behavior on the sphinx rendered scikit-learn.org. See: https://github.com/scikit-learn/scikit-learn/issues/21755 */display: inline-block !important;position: relative;}#sk-container-id-4 div.sk-text-repr-fallback {display: none;}</style><div id=\"sk-container-id-4\" class=\"sk-top-container\"><div class=\"sk-text-repr-fallback\"><pre>FactorAnalyzer(n_factors=2, rotation=&#x27;varimax&#x27;, rotation_kwargs={})</pre><b>In a Jupyter environment, please rerun this cell to show the HTML representation or trust the notebook. <br />On GitHub, the HTML representation is unable to render, please try loading this page with nbviewer.org.</b></div><div class=\"sk-container\" hidden><div class=\"sk-item\"><div class=\"sk-estimator sk-toggleable\"><input class=\"sk-toggleable__control sk-hidden--visually\" id=\"sk-estimator-id-4\" type=\"checkbox\" checked><label for=\"sk-estimator-id-4\" class=\"sk-toggleable__label sk-toggleable__label-arrow\">FactorAnalyzer</label><div class=\"sk-toggleable__content\"><pre>FactorAnalyzer(n_factors=2, rotation=&#x27;varimax&#x27;, rotation_kwargs={})</pre></div></div></div></div></div>"
      ],
      "text/plain": [
       "FactorAnalyzer(n_factors=2, rotation='varimax', rotation_kwargs={})"
      ]
     },
     "execution_count": 33,
     "metadata": {},
     "output_type": "execute_result"
    }
   ],
   "source": [
    "# 选择2个factor\n",
    "faa_two = FactorAnalyzer(2,rotation='varimax')\n",
    "faa_two.fit(df_t)"
   ]
  },
  {
   "cell_type": "code",
   "execution_count": 34,
   "id": "8254f224",
   "metadata": {},
   "outputs": [
    {
     "data": {
      "text/html": [
       "<div>\n",
       "<style scoped>\n",
       "    .dataframe tbody tr th:only-of-type {\n",
       "        vertical-align: middle;\n",
       "    }\n",
       "\n",
       "    .dataframe tbody tr th {\n",
       "        vertical-align: top;\n",
       "    }\n",
       "\n",
       "    .dataframe thead th {\n",
       "        text-align: right;\n",
       "    }\n",
       "</style>\n",
       "<table border=\"1\" class=\"dataframe\">\n",
       "  <thead>\n",
       "    <tr style=\"text-align: right;\">\n",
       "      <th></th>\n",
       "      <th>0</th>\n",
       "    </tr>\n",
       "  </thead>\n",
       "  <tbody>\n",
       "    <tr>\n",
       "      <th>pctpoc</th>\n",
       "      <td>0.515799</td>\n",
       "    </tr>\n",
       "    <tr>\n",
       "      <th>unemplrate</th>\n",
       "      <td>0.172148</td>\n",
       "    </tr>\n",
       "    <tr>\n",
       "      <th>dep_ratio</th>\n",
       "      <td>0.262560</td>\n",
       "    </tr>\n",
       "    <tr>\n",
       "      <th>child_perc</th>\n",
       "      <td>0.199762</td>\n",
       "    </tr>\n",
       "    <tr>\n",
       "      <th>seniorperc</th>\n",
       "      <td>1.013073</td>\n",
       "    </tr>\n",
       "    <tr>\n",
       "      <th>avg_temp</th>\n",
       "      <td>0.034328</td>\n",
       "    </tr>\n",
       "    <tr>\n",
       "      <th>phys_hlth</th>\n",
       "      <td>0.832993</td>\n",
       "    </tr>\n",
       "    <tr>\n",
       "      <th>asthma</th>\n",
       "      <td>0.513778</td>\n",
       "    </tr>\n",
       "    <tr>\n",
       "      <th>core_m</th>\n",
       "      <td>0.878837</td>\n",
       "    </tr>\n",
       "    <tr>\n",
       "      <th>core_w</th>\n",
       "      <td>0.835434</td>\n",
       "    </tr>\n",
       "  </tbody>\n",
       "</table>\n",
       "</div>"
      ],
      "text/plain": [
       "                   0\n",
       "pctpoc      0.515799\n",
       "unemplrate  0.172148\n",
       "dep_ratio   0.262560\n",
       "child_perc  0.199762\n",
       "seniorperc  1.013073\n",
       "avg_temp    0.034328\n",
       "phys_hlth   0.832993\n",
       "asthma      0.513778\n",
       "core_m      0.878837\n",
       "core_w      0.835434"
      ]
     },
     "execution_count": 34,
     "metadata": {},
     "output_type": "execute_result"
    }
   ],
   "source": [
    "# 每个变量解释方差\n",
    "pd.DataFrame(faa_two.get_communalities(),index=df_t.columns)"
   ]
  },
  {
   "cell_type": "code",
   "execution_count": 37,
   "id": "a89e9c91",
   "metadata": {},
   "outputs": [
    {
     "data": {
      "text/html": [
       "<div>\n",
       "<style scoped>\n",
       "    .dataframe tbody tr th:only-of-type {\n",
       "        vertical-align: middle;\n",
       "    }\n",
       "\n",
       "    .dataframe tbody tr th {\n",
       "        vertical-align: top;\n",
       "    }\n",
       "\n",
       "    .dataframe thead th {\n",
       "        text-align: right;\n",
       "    }\n",
       "</style>\n",
       "<table border=\"1\" class=\"dataframe\">\n",
       "  <thead>\n",
       "    <tr style=\"text-align: right;\">\n",
       "      <th></th>\n",
       "      <th>0</th>\n",
       "      <th>1</th>\n",
       "    </tr>\n",
       "  </thead>\n",
       "  <tbody>\n",
       "    <tr>\n",
       "      <th>pctpoc</th>\n",
       "      <td>0.709899</td>\n",
       "      <td>-0.108825</td>\n",
       "    </tr>\n",
       "    <tr>\n",
       "      <th>unemplrate</th>\n",
       "      <td>0.414811</td>\n",
       "      <td>-0.008928</td>\n",
       "    </tr>\n",
       "    <tr>\n",
       "      <th>dep_ratio</th>\n",
       "      <td>0.090217</td>\n",
       "      <td>0.504402</td>\n",
       "    </tr>\n",
       "    <tr>\n",
       "      <th>child_perc</th>\n",
       "      <td>0.432973</td>\n",
       "      <td>-0.110890</td>\n",
       "    </tr>\n",
       "    <tr>\n",
       "      <th>seniorperc</th>\n",
       "      <td>-0.265271</td>\n",
       "      <td>0.970929</td>\n",
       "    </tr>\n",
       "    <tr>\n",
       "      <th>avg_temp</th>\n",
       "      <td>0.184605</td>\n",
       "      <td>-0.015767</td>\n",
       "    </tr>\n",
       "    <tr>\n",
       "      <th>phys_hlth</th>\n",
       "      <td>0.897130</td>\n",
       "      <td>0.167781</td>\n",
       "    </tr>\n",
       "    <tr>\n",
       "      <th>asthma</th>\n",
       "      <td>0.715816</td>\n",
       "      <td>0.037224</td>\n",
       "    </tr>\n",
       "    <tr>\n",
       "      <th>core_m</th>\n",
       "      <td>-0.935965</td>\n",
       "      <td>0.052975</td>\n",
       "    </tr>\n",
       "    <tr>\n",
       "      <th>core_w</th>\n",
       "      <td>-0.913936</td>\n",
       "      <td>-0.012439</td>\n",
       "    </tr>\n",
       "  </tbody>\n",
       "</table>\n",
       "</div>"
      ],
      "text/plain": [
       "                   0         1\n",
       "pctpoc      0.709899 -0.108825\n",
       "unemplrate  0.414811 -0.008928\n",
       "dep_ratio   0.090217  0.504402\n",
       "child_perc  0.432973 -0.110890\n",
       "seniorperc -0.265271  0.970929\n",
       "avg_temp    0.184605 -0.015767\n",
       "phys_hlth   0.897130  0.167781\n",
       "asthma      0.715816  0.037224\n",
       "core_m     -0.935965  0.052975\n",
       "core_w     -0.913936 -0.012439"
      ]
     },
     "execution_count": 37,
     "metadata": {},
     "output_type": "execute_result"
    }
   ],
   "source": [
    "# 因子成分\n",
    "pd.DataFrame(faa_two.loadings_,index=df_t.columns)"
   ]
  },
  {
   "cell_type": "code",
   "execution_count": 38,
   "id": "83309c6c",
   "metadata": {},
   "outputs": [
    {
     "data": {
      "text/plain": [
       "(array([4.00462157, 1.25409029]),\n",
       " array([0.40046216, 0.12540903]),\n",
       " array([0.40046216, 0.52587119]))"
      ]
     },
     "execution_count": 38,
     "metadata": {},
     "output_type": "execute_result"
    }
   ],
   "source": [
    "# 关注第二行 第三行 分别为 方差贡献率 累积方差贡献率\n",
    "faa_two.get_factor_variance()"
   ]
  },
  {
   "cell_type": "code",
   "execution_count": 39,
   "id": "4ffefda6",
   "metadata": {},
   "outputs": [
    {
     "name": "stdout",
     "output_type": "stream",
     "text": [
      "                   0         1\n",
      "pctpoc      0.709899  0.108825\n",
      "unemplrate  0.414811  0.008928\n",
      "dep_ratio   0.090217  0.504402\n",
      "child_perc  0.432973  0.110890\n",
      "seniorperc  0.265271  0.970929\n",
      "avg_temp    0.184605  0.015767\n",
      "phys_hlth   0.897130  0.167781\n",
      "asthma      0.715816  0.037224\n",
      "core_m      0.935965  0.052975\n",
      "core_w      0.913936  0.012439\n"
     ]
    }
   ],
   "source": [
    "# 取贡献率绝对值，探究因子和feature相关性\n",
    "df1 = pd.DataFrame(np.abs(faa_two.loadings_),index=df_t.columns)\n",
    "print(df1)"
   ]
  },
  {
   "cell_type": "code",
   "execution_count": 40,
   "id": "d1c27c54",
   "metadata": {},
   "outputs": [
    {
     "data": {
      "image/png": "[encoded data removed]",
      "text/plain": [
       "<Figure size 1400x1400 with 2 Axes>"
      ]
     },
     "metadata": {},
     "output_type": "display_data"
    }
   ],
   "source": [
    "# 绘图\n",
    " \n",
    "plt.figure(figsize = (14,14))\n",
    "ax = sns.heatmap(df1, annot=True, cmap=\"BuPu\")\n",
    "\n",
    "ax.yaxis.set_tick_params(labelsize=15)\n",
    "plt.title(\"Factor Analysis\", fontsize=\"xx-large\")\n",
    "\n",
    "plt.ylabel(\"Sepal Width\", fontsize=\"xx-large\")\n",
    "\n",
    "plt.show()"
   ]
  },
  {
   "cell_type": "code",
   "execution_count": 41,
   "id": "7e4d9762",
   "metadata": {},
   "outputs": [],
   "source": [
    "df2 = pd.DataFrame(faa_two.transform(df_t)) # 将原数据转化为两因子数据"
   ]
  },
  {
   "cell_type": "code",
   "execution_count": 42,
   "id": "cd731462",
   "metadata": {},
   "outputs": [
    {
     "data": {
      "text/html": [
       "<div>\n",
       "<style scoped>\n",
       "    .dataframe tbody tr th:only-of-type {\n",
       "        vertical-align: middle;\n",
       "    }\n",
       "\n",
       "    .dataframe tbody tr th {\n",
       "        vertical-align: top;\n",
       "    }\n",
       "\n",
       "    .dataframe thead th {\n",
       "        text-align: right;\n",
       "    }\n",
       "</style>\n",
       "<table border=\"1\" class=\"dataframe\">\n",
       "  <thead>\n",
       "    <tr style=\"text-align: right;\">\n",
       "      <th></th>\n",
       "      <th>0</th>\n",
       "      <th>1</th>\n",
       "    </tr>\n",
       "  </thead>\n",
       "  <tbody>\n",
       "    <tr>\n",
       "      <th>0</th>\n",
       "      <td>-0.554574</td>\n",
       "      <td>-0.212328</td>\n",
       "    </tr>\n",
       "    <tr>\n",
       "      <th>1</th>\n",
       "      <td>-0.639496</td>\n",
       "      <td>0.388793</td>\n",
       "    </tr>\n",
       "    <tr>\n",
       "      <th>2</th>\n",
       "      <td>-0.462290</td>\n",
       "      <td>-1.138056</td>\n",
       "    </tr>\n",
       "    <tr>\n",
       "      <th>3</th>\n",
       "      <td>-0.681161</td>\n",
       "      <td>1.128788</td>\n",
       "    </tr>\n",
       "    <tr>\n",
       "      <th>4</th>\n",
       "      <td>-0.812016</td>\n",
       "      <td>3.008723</td>\n",
       "    </tr>\n",
       "  </tbody>\n",
       "</table>\n",
       "</div>"
      ],
      "text/plain": [
       "          0         1\n",
       "0 -0.554574 -0.212328\n",
       "1 -0.639496  0.388793\n",
       "2 -0.462290 -1.138056\n",
       "3 -0.681161  1.128788\n",
       "4 -0.812016  3.008723"
      ]
     },
     "execution_count": 42,
     "metadata": {},
     "output_type": "execute_result"
    }
   ],
   "source": [
    "df2.head()"
   ]
  },
  {
   "cell_type": "code",
   "execution_count": null,
   "id": "015879ba",
   "metadata": {},
   "outputs": [],
   "source": []
  }
 ],
 "metadata": {
  "kernelspec": {
   "display_name": "Python [conda env:datadive] *",
   "language": "python",
   "name": "conda-env-datadive-py"
  },
  "language_info": {
   "codemirror_mode": {
    "name": "ipython",
    "version": 3
   },
   "file_extension": ".py",
   "mimetype": "text/x-python",
   "name": "python",
   "nbconvert_exporter": "python",
   "pygments_lexer": "ipython3",
   "version": "3.8.13"
  }
 },
 "nbformat": 4,
 "nbformat_minor": 5
}
