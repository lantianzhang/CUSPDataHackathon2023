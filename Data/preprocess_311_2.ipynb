{
 "cells": [
  {
   "cell_type": "code",
   "execution_count": 1,
   "id": "f2c17773",
   "metadata": {},
   "outputs": [],
   "source": [
    "import pandas as pd\n",
    "import numpy as np"
   ]
  },
  {
   "cell_type": "markdown",
   "id": "241614d5",
   "metadata": {},
   "source": [
    "### 完成内容  \n",
    "1. 清洗JURISDICTION_CODE列，Police(0), Transit(1), and Housing(2); or external(3)\n",
    "2. 删除PARKS_NM，99.25为空值\n",
    "3. 重新标记性别（VIC&SUSP） male-1 female-2 other-3 Nan-0\n",
    "4. 重新标记种族（VIC&SUSP） Nan&Unknown-0 BLACK-1  BLACK HISPANIC-2  WHITE-3  WHITE HISPANIC- 4 ASIAN/PACIFIC ISLANDER-5 AMERICAN INDIAN/ALASKAN NATIVE-6\n",
    "5. 检查Latitude，Longitude列 与 Lat_Lon列是否一一对应\n",
    "6. 重新标记犯罪场所相对位置LOC_OF_OCCUR_DESC 'INSIDE':1, 'FRONT OF':2, 'OPPOSITE OF':3 , 'REAR OF':4  \n",
    "    PREM_TYP_DESC为犯罪场所, 共74种类，未处理（string类型）\n",
    "7. 建立犯罪label与犯罪类型的对应关系（细粒度与粗粒度），并分组统计（粗粒度：'KY_CD'=>\"OFNS_DESC\", 细粒度'PD_CD'=>\"PD_DESC\")\n",
    "8. 重新标记犯罪是否成功(CRM_ATPT_CPTD_CD) 'COMPLETED':1, 'ATTEMPTED':2\n",
    "9. 重新标记犯罪严重程度（LAW_CAT_CD） 'FELONY':1, 'VIOLATION':2, 'MISDEMEANOR':3"
   ]
  },
  {
   "cell_type": "code",
   "execution_count": 2,
   "id": "c50dfb02",
   "metadata": {},
   "outputs": [],
   "source": [
    "df = pd.read_csv('preprocess_311.csv')"
   ]
  },
  {
   "cell_type": "code",
   "execution_count": 3,
   "id": "ca7969e9",
   "metadata": {},
   "outputs": [],
   "source": [
    "del df['Unnamed: 0']"
   ]
  },
  {
   "cell_type": "code",
   "execution_count": 4,
   "id": "29f79363",
   "metadata": {},
   "outputs": [],
   "source": [
    "df.CMPLNT_FR_DT = pd.to_datetime(df.CMPLNT_FR_DT)\n",
    "df.CMPLNT_FR_TM = pd.to_datetime(df.CMPLNT_FR_TM)"
   ]
  },
  {
   "cell_type": "code",
   "execution_count": 5,
   "id": "19c0b627",
   "metadata": {},
   "outputs": [
    {
     "data": {
      "text/html": [
       "<div>\n",
       "<style scoped>\n",
       "    .dataframe tbody tr th:only-of-type {\n",
       "        vertical-align: middle;\n",
       "    }\n",
       "\n",
       "    .dataframe tbody tr th {\n",
       "        vertical-align: top;\n",
       "    }\n",
       "\n",
       "    .dataframe thead th {\n",
       "        text-align: right;\n",
       "    }\n",
       "</style>\n",
       "<table border=\"1\" class=\"dataframe\">\n",
       "  <thead>\n",
       "    <tr style=\"text-align: right;\">\n",
       "      <th></th>\n",
       "      <th>CMPLNT_NUM</th>\n",
       "      <th>CMPLNT_FR_DT</th>\n",
       "      <th>CMPLNT_FR_TM</th>\n",
       "      <th>KY_CD</th>\n",
       "      <th>OFNS_DESC</th>\n",
       "      <th>PD_CD</th>\n",
       "      <th>PD_DESC</th>\n",
       "      <th>CRM_ATPT_CPTD_CD</th>\n",
       "      <th>LAW_CAT_CD</th>\n",
       "      <th>BORO_NM</th>\n",
       "      <th>...</th>\n",
       "      <th>Y_COORD_CD</th>\n",
       "      <th>SUSP_AGE_GROUP</th>\n",
       "      <th>SUSP_RACE</th>\n",
       "      <th>SUSP_SEX</th>\n",
       "      <th>Latitude</th>\n",
       "      <th>Longitude</th>\n",
       "      <th>Lat_Lon</th>\n",
       "      <th>VIC_AGE_GROUP</th>\n",
       "      <th>VIC_RACE</th>\n",
       "      <th>VIC_SEX</th>\n",
       "    </tr>\n",
       "  </thead>\n",
       "  <tbody>\n",
       "    <tr>\n",
       "      <th>0</th>\n",
       "      <td>708871766</td>\n",
       "      <td>2021-12-23</td>\n",
       "      <td>1900-01-01 13:30:00</td>\n",
       "      <td>126</td>\n",
       "      <td>MISCELLANEOUS PENAL LAW</td>\n",
       "      <td>640.0</td>\n",
       "      <td>AGGRAVATED HARASSMENT 1</td>\n",
       "      <td>COMPLETED</td>\n",
       "      <td>FELONY</td>\n",
       "      <td>BRONX</td>\n",
       "      <td>...</td>\n",
       "      <td>241853.0</td>\n",
       "      <td>UNKNOWN</td>\n",
       "      <td>UNKNOWN</td>\n",
       "      <td>M</td>\n",
       "      <td>40.830443</td>\n",
       "      <td>-73.871349</td>\n",
       "      <td>(40.83044253800006, -73.871349147)</td>\n",
       "      <td>18-24</td>\n",
       "      <td>BLACK</td>\n",
       "      <td>M</td>\n",
       "    </tr>\n",
       "    <tr>\n",
       "      <th>1</th>\n",
       "      <td>498849139</td>\n",
       "      <td>2019-12-31</td>\n",
       "      <td>1900-01-01 01:00:00</td>\n",
       "      <td>578</td>\n",
       "      <td>HARRASSMENT 2</td>\n",
       "      <td>638.0</td>\n",
       "      <td>HARASSMENT,SUBD 3,4,5</td>\n",
       "      <td>COMPLETED</td>\n",
       "      <td>VIOLATION</td>\n",
       "      <td>QUEENS</td>\n",
       "      <td>...</td>\n",
       "      <td>156860.0</td>\n",
       "      <td>UNKNOWN</td>\n",
       "      <td>BLACK</td>\n",
       "      <td>M</td>\n",
       "      <td>40.596994</td>\n",
       "      <td>-73.767859</td>\n",
       "      <td>(40.59699444300003, -73.76785904499997)</td>\n",
       "      <td>45-64</td>\n",
       "      <td>BLACK</td>\n",
       "      <td>F</td>\n",
       "    </tr>\n",
       "    <tr>\n",
       "      <th>2</th>\n",
       "      <td>123171799</td>\n",
       "      <td>2021-12-31</td>\n",
       "      <td>1900-01-01 21:15:00</td>\n",
       "      <td>106</td>\n",
       "      <td>FELONY ASSAULT</td>\n",
       "      <td>109.0</td>\n",
       "      <td>ASSAULT 2,1,UNCLASSIFIED</td>\n",
       "      <td>COMPLETED</td>\n",
       "      <td>FELONY</td>\n",
       "      <td>BRONX</td>\n",
       "      <td>...</td>\n",
       "      <td>237277.0</td>\n",
       "      <td>UNKNOWN</td>\n",
       "      <td>WHITE HISPANIC</td>\n",
       "      <td>M</td>\n",
       "      <td>40.817877</td>\n",
       "      <td>-73.865994</td>\n",
       "      <td>(40.81787660100008, -73.86599391299995)</td>\n",
       "      <td>65+</td>\n",
       "      <td>BLACK</td>\n",
       "      <td>M</td>\n",
       "    </tr>\n",
       "    <tr>\n",
       "      <th>3</th>\n",
       "      <td>725872999</td>\n",
       "      <td>2021-12-21</td>\n",
       "      <td>1900-01-01 23:00:00</td>\n",
       "      <td>114</td>\n",
       "      <td>ARSON</td>\n",
       "      <td>264.0</td>\n",
       "      <td>ARSON, MOTOR VEHICLE 1 2 3 &amp; 4</td>\n",
       "      <td>COMPLETED</td>\n",
       "      <td>FELONY</td>\n",
       "      <td>BRONX</td>\n",
       "      <td>...</td>\n",
       "      <td>252550.0</td>\n",
       "      <td>NaN</td>\n",
       "      <td>NaN</td>\n",
       "      <td>NaN</td>\n",
       "      <td>40.859744</td>\n",
       "      <td>-73.826259</td>\n",
       "      <td>(40.859743612000045, -73.82625891199996)</td>\n",
       "      <td>UNKNOWN</td>\n",
       "      <td>UNKNOWN</td>\n",
       "      <td>E</td>\n",
       "    </tr>\n",
       "    <tr>\n",
       "      <th>4</th>\n",
       "      <td>432371969</td>\n",
       "      <td>2021-12-31</td>\n",
       "      <td>1900-01-01 18:20:00</td>\n",
       "      <td>113</td>\n",
       "      <td>FORGERY</td>\n",
       "      <td>725.0</td>\n",
       "      <td>FORGERY,M.V. REGISTRATION</td>\n",
       "      <td>COMPLETED</td>\n",
       "      <td>FELONY</td>\n",
       "      <td>QUEENS</td>\n",
       "      <td>...</td>\n",
       "      <td>211420.0</td>\n",
       "      <td>18-24</td>\n",
       "      <td>WHITE HISPANIC</td>\n",
       "      <td>M</td>\n",
       "      <td>40.746775</td>\n",
       "      <td>-73.780867</td>\n",
       "      <td>(40.74677541300008, -73.78086726799995)</td>\n",
       "      <td>UNKNOWN</td>\n",
       "      <td>UNKNOWN</td>\n",
       "      <td>E</td>\n",
       "    </tr>\n",
       "  </tbody>\n",
       "</table>\n",
       "<p>5 rows × 26 columns</p>\n",
       "</div>"
      ],
      "text/plain": [
       "   CMPLNT_NUM CMPLNT_FR_DT        CMPLNT_FR_TM  KY_CD  \\\n",
       "0   708871766   2021-12-23 1900-01-01 13:30:00    126   \n",
       "1   498849139   2019-12-31 1900-01-01 01:00:00    578   \n",
       "2   123171799   2021-12-31 1900-01-01 21:15:00    106   \n",
       "3   725872999   2021-12-21 1900-01-01 23:00:00    114   \n",
       "4   432371969   2021-12-31 1900-01-01 18:20:00    113   \n",
       "\n",
       "                 OFNS_DESC  PD_CD                         PD_DESC  \\\n",
       "0  MISCELLANEOUS PENAL LAW  640.0         AGGRAVATED HARASSMENT 1   \n",
       "1            HARRASSMENT 2  638.0           HARASSMENT,SUBD 3,4,5   \n",
       "2           FELONY ASSAULT  109.0        ASSAULT 2,1,UNCLASSIFIED   \n",
       "3                    ARSON  264.0  ARSON, MOTOR VEHICLE 1 2 3 & 4   \n",
       "4                  FORGERY  725.0       FORGERY,M.V. REGISTRATION   \n",
       "\n",
       "  CRM_ATPT_CPTD_CD LAW_CAT_CD BORO_NM  ... Y_COORD_CD SUSP_AGE_GROUP  \\\n",
       "0        COMPLETED     FELONY   BRONX  ...   241853.0        UNKNOWN   \n",
       "1        COMPLETED  VIOLATION  QUEENS  ...   156860.0        UNKNOWN   \n",
       "2        COMPLETED     FELONY   BRONX  ...   237277.0        UNKNOWN   \n",
       "3        COMPLETED     FELONY   BRONX  ...   252550.0            NaN   \n",
       "4        COMPLETED     FELONY  QUEENS  ...   211420.0          18-24   \n",
       "\n",
       "        SUSP_RACE  SUSP_SEX   Latitude  Longitude  \\\n",
       "0         UNKNOWN         M  40.830443 -73.871349   \n",
       "1           BLACK         M  40.596994 -73.767859   \n",
       "2  WHITE HISPANIC         M  40.817877 -73.865994   \n",
       "3             NaN       NaN  40.859744 -73.826259   \n",
       "4  WHITE HISPANIC         M  40.746775 -73.780867   \n",
       "\n",
       "                                    Lat_Lon VIC_AGE_GROUP VIC_RACE VIC_SEX  \n",
       "0        (40.83044253800006, -73.871349147)         18-24    BLACK       M  \n",
       "1   (40.59699444300003, -73.76785904499997)         45-64    BLACK       F  \n",
       "2   (40.81787660100008, -73.86599391299995)           65+    BLACK       M  \n",
       "3  (40.859743612000045, -73.82625891199996)       UNKNOWN  UNKNOWN       E  \n",
       "4   (40.74677541300008, -73.78086726799995)       UNKNOWN  UNKNOWN       E  \n",
       "\n",
       "[5 rows x 26 columns]"
      ]
     },
     "execution_count": 5,
     "metadata": {},
     "output_type": "execute_result"
    }
   ],
   "source": [
    "df.head()"
   ]
  },
  {
   "cell_type": "code",
   "execution_count": 6,
   "id": "a70eea89",
   "metadata": {},
   "outputs": [
    {
     "data": {
      "text/html": [
       "<div>\n",
       "<style scoped>\n",
       "    .dataframe tbody tr th:only-of-type {\n",
       "        vertical-align: middle;\n",
       "    }\n",
       "\n",
       "    .dataframe tbody tr th {\n",
       "        vertical-align: top;\n",
       "    }\n",
       "\n",
       "    .dataframe thead th {\n",
       "        text-align: right;\n",
       "    }\n",
       "</style>\n",
       "<table border=\"1\" class=\"dataframe\">\n",
       "  <thead>\n",
       "    <tr style=\"text-align: right;\">\n",
       "      <th></th>\n",
       "      <th>CMPLNT_NUM</th>\n",
       "      <th>KY_CD</th>\n",
       "      <th>PD_CD</th>\n",
       "      <th>JURISDICTION_CODE</th>\n",
       "      <th>X_COORD_CD</th>\n",
       "      <th>Y_COORD_CD</th>\n",
       "      <th>Latitude</th>\n",
       "      <th>Longitude</th>\n",
       "    </tr>\n",
       "  </thead>\n",
       "  <tbody>\n",
       "    <tr>\n",
       "      <th>count</th>\n",
       "      <td>1.307203e+06</td>\n",
       "      <td>1.307203e+06</td>\n",
       "      <td>1.307203e+06</td>\n",
       "      <td>1.307203e+06</td>\n",
       "      <td>1.307203e+06</td>\n",
       "      <td>1.307203e+06</td>\n",
       "      <td>1.307203e+06</td>\n",
       "      <td>1.307203e+06</td>\n",
       "    </tr>\n",
       "    <tr>\n",
       "      <th>mean</th>\n",
       "      <td>5.499413e+08</td>\n",
       "      <td>3.060607e+02</td>\n",
       "      <td>3.972663e+02</td>\n",
       "      <td>6.759539e-01</td>\n",
       "      <td>1.005456e+06</td>\n",
       "      <td>2.078022e+05</td>\n",
       "      <td>4.073700e+01</td>\n",
       "      <td>-7.392345e+01</td>\n",
       "    </tr>\n",
       "    <tr>\n",
       "      <th>std</th>\n",
       "      <td>2.598241e+08</td>\n",
       "      <td>1.588825e+02</td>\n",
       "      <td>2.144835e+02</td>\n",
       "      <td>6.724927e+00</td>\n",
       "      <td>2.124784e+04</td>\n",
       "      <td>3.015338e+04</td>\n",
       "      <td>8.276781e-02</td>\n",
       "      <td>7.662898e-02</td>\n",
       "    </tr>\n",
       "    <tr>\n",
       "      <th>min</th>\n",
       "      <td>1.000004e+08</td>\n",
       "      <td>1.020000e+02</td>\n",
       "      <td>1.000000e+02</td>\n",
       "      <td>0.000000e+00</td>\n",
       "      <td>9.134110e+05</td>\n",
       "      <td>1.211310e+05</td>\n",
       "      <td>4.049891e+01</td>\n",
       "      <td>-7.425474e+01</td>\n",
       "    </tr>\n",
       "    <tr>\n",
       "      <th>25%</th>\n",
       "      <td>3.246092e+08</td>\n",
       "      <td>1.170000e+02</td>\n",
       "      <td>2.540000e+02</td>\n",
       "      <td>0.000000e+00</td>\n",
       "      <td>9.922970e+05</td>\n",
       "      <td>1.852460e+05</td>\n",
       "      <td>4.067507e+01</td>\n",
       "      <td>-7.397099e+01</td>\n",
       "    </tr>\n",
       "    <tr>\n",
       "      <th>50%</th>\n",
       "      <td>5.502648e+08</td>\n",
       "      <td>3.410000e+02</td>\n",
       "      <td>3.490000e+02</td>\n",
       "      <td>0.000000e+00</td>\n",
       "      <td>1.004715e+06</td>\n",
       "      <td>2.070540e+05</td>\n",
       "      <td>4.073498e+01</td>\n",
       "      <td>-7.392615e+01</td>\n",
       "    </tr>\n",
       "    <tr>\n",
       "      <th>75%</th>\n",
       "      <td>7.750460e+08</td>\n",
       "      <td>3.510000e+02</td>\n",
       "      <td>6.370000e+02</td>\n",
       "      <td>0.000000e+00</td>\n",
       "      <td>1.017179e+06</td>\n",
       "      <td>2.353120e+05</td>\n",
       "      <td>4.081252e+01</td>\n",
       "      <td>-7.388119e+01</td>\n",
       "    </tr>\n",
       "    <tr>\n",
       "      <th>max</th>\n",
       "      <td>9.999989e+08</td>\n",
       "      <td>8.810000e+02</td>\n",
       "      <td>9.690000e+02</td>\n",
       "      <td>9.700000e+01</td>\n",
       "      <td>1.067226e+06</td>\n",
       "      <td>2.718200e+05</td>\n",
       "      <td>4.091272e+01</td>\n",
       "      <td>-7.370057e+01</td>\n",
       "    </tr>\n",
       "  </tbody>\n",
       "</table>\n",
       "</div>"
      ],
      "text/plain": [
       "         CMPLNT_NUM         KY_CD         PD_CD  JURISDICTION_CODE  \\\n",
       "count  1.307203e+06  1.307203e+06  1.307203e+06       1.307203e+06   \n",
       "mean   5.499413e+08  3.060607e+02  3.972663e+02       6.759539e-01   \n",
       "std    2.598241e+08  1.588825e+02  2.144835e+02       6.724927e+00   \n",
       "min    1.000004e+08  1.020000e+02  1.000000e+02       0.000000e+00   \n",
       "25%    3.246092e+08  1.170000e+02  2.540000e+02       0.000000e+00   \n",
       "50%    5.502648e+08  3.410000e+02  3.490000e+02       0.000000e+00   \n",
       "75%    7.750460e+08  3.510000e+02  6.370000e+02       0.000000e+00   \n",
       "max    9.999989e+08  8.810000e+02  9.690000e+02       9.700000e+01   \n",
       "\n",
       "         X_COORD_CD    Y_COORD_CD      Latitude     Longitude  \n",
       "count  1.307203e+06  1.307203e+06  1.307203e+06  1.307203e+06  \n",
       "mean   1.005456e+06  2.078022e+05  4.073700e+01 -7.392345e+01  \n",
       "std    2.124784e+04  3.015338e+04  8.276781e-02  7.662898e-02  \n",
       "min    9.134110e+05  1.211310e+05  4.049891e+01 -7.425474e+01  \n",
       "25%    9.922970e+05  1.852460e+05  4.067507e+01 -7.397099e+01  \n",
       "50%    1.004715e+06  2.070540e+05  4.073498e+01 -7.392615e+01  \n",
       "75%    1.017179e+06  2.353120e+05  4.081252e+01 -7.388119e+01  \n",
       "max    1.067226e+06  2.718200e+05  4.091272e+01 -7.370057e+01  "
      ]
     },
     "execution_count": 6,
     "metadata": {},
     "output_type": "execute_result"
    }
   ],
   "source": [
    "df.describe()"
   ]
  },
  {
   "cell_type": "code",
   "execution_count": 7,
   "id": "a20c4a1d",
   "metadata": {},
   "outputs": [],
   "source": [
    "# Police(0), Transit(1), and Housing(2); or external(3)\n",
    "df = df[df['JURISDICTION_CODE'].isin([0,1,2,3])]"
   ]
  },
  {
   "cell_type": "code",
   "execution_count": 8,
   "id": "c345e45a",
   "metadata": {},
   "outputs": [
    {
     "data": {
      "text/plain": [
       "PARKS_NM             99.30%\n",
       "SUSP_SEX             21.88%\n",
       "SUSP_RACE            21.88%\n",
       "SUSP_AGE_GROUP       21.88%\n",
       "LOC_OF_OCCUR_DESC    16.91%\n",
       "PREM_TYP_DESC         0.22%\n",
       "CRM_ATPT_CPTD_CD      0.01%\n",
       "VIC_RACE              0.01%\n",
       "OFNS_DESC             0.00%\n",
       "VIC_SEX               0.00%\n",
       "VIC_AGE_GROUP         0.00%\n",
       "Y_COORD_CD            0.00%\n",
       "Lat_Lon               0.00%\n",
       "Longitude             0.00%\n",
       "Latitude              0.00%\n",
       "CMPLNT_NUM            0.00%\n",
       "X_COORD_CD            0.00%\n",
       "CMPLNT_FR_DT          0.00%\n",
       "JURIS_DESC            0.00%\n",
       "BORO_NM               0.00%\n",
       "LAW_CAT_CD            0.00%\n",
       "PD_DESC               0.00%\n",
       "PD_CD                 0.00%\n",
       "KY_CD                 0.00%\n",
       "CMPLNT_FR_TM          0.00%\n",
       "JURISDICTION_CODE     0.00%\n",
       "dtype: object"
      ]
     },
     "execution_count": 8,
     "metadata": {},
     "output_type": "execute_result"
    }
   ],
   "source": [
    "((df.isnull().sum())/df.shape[0]).sort_values(ascending=False).map(lambda x:\"{:.2%}\".format(x))"
   ]
  },
  {
   "cell_type": "code",
   "execution_count": 9,
   "id": "38c88e5e",
   "metadata": {},
   "outputs": [],
   "source": [
    "# Nan占比过多\n",
    "del df['PARKS_NM']"
   ]
  },
  {
   "cell_type": "code",
   "execution_count": 10,
   "id": "cf69f5b8",
   "metadata": {},
   "outputs": [],
   "source": [
    "def count_freq(c):\n",
    "    print(c.agg(['value_counts']).T)"
   ]
  },
  {
   "cell_type": "code",
   "execution_count": 11,
   "id": "f1c155c1",
   "metadata": {},
   "outputs": [
    {
     "data": {
      "text/plain": [
       "array([1, 0, 3, 2], dtype=int64)"
      ]
     },
     "execution_count": 11,
     "metadata": {},
     "output_type": "execute_result"
    }
   ],
   "source": [
    "# 统一性别 M-male-1 F-female-2 O-other-3 Nan-0\n",
    "df.loc[df['SUSP_SEX']=='F','SUSP_SEX'] = 2\n",
    "df.loc[df['SUSP_SEX']=='M','SUSP_SEX'] = 1\n",
    "df.loc[df['SUSP_SEX']=='U','SUSP_SEX'] = 3\n",
    "df['SUSP_SEX'] = df['SUSP_SEX'].fillna(0)\n",
    "df.SUSP_SEX.unique()"
   ]
  },
  {
   "cell_type": "code",
   "execution_count": 12,
   "id": "b6603245",
   "metadata": {},
   "outputs": [
    {
     "data": {
      "text/plain": [
       "array([1, 2, 3, 0], dtype=int64)"
      ]
     },
     "execution_count": 12,
     "metadata": {},
     "output_type": "execute_result"
    }
   ],
   "source": [
    "# 统一性别 M-male-1 F-female-2 O-other-3 Nan-0\n",
    "df.loc[df['VIC_SEX']=='F','VIC_SEX'] = 2\n",
    "df.loc[df['VIC_SEX']=='M','VIC_SEX'] = 1\n",
    "df.loc[df['VIC_SEX'].isin(['E','D']),'VIC_SEX'] = 3\n",
    "df['VIC_SEX'] = df['VIC_SEX'].fillna(0)\n",
    "df.VIC_SEX.unique()"
   ]
  },
  {
   "cell_type": "code",
   "execution_count": 13,
   "id": "fbb57bfa",
   "metadata": {},
   "outputs": [
    {
     "name": "stdout",
     "output_type": "stream",
     "text": [
      "                   0       1       4       3       5      2     6\n",
      "value_counts  363555  337710  232864  201542  102670  54910  5424\n"
     ]
    }
   ],
   "source": [
    "# 统一种族 Nan&Unknown-0 BLACK-1  BLACK HISPANIC-2  WHITE-3   WHITE HISPANIC- 4\n",
    "# ASIAN/PACIFIC ISLANDER-5 AMERICAN INDIAN/ALASKAN NATIVE-6\n",
    "df.loc[df['VIC_RACE']=='UNKNOWN','VIC_RACE'] = 0\n",
    "df.loc[df['VIC_RACE']=='BLACK','VIC_RACE'] = 1\n",
    "df.loc[df['VIC_RACE']=='BLACK HISPANIC','VIC_RACE'] = 2\n",
    "df.loc[df['VIC_RACE']=='WHITE','VIC_RACE'] = 3\n",
    "df.loc[df['VIC_RACE']=='WHITE HISPANIC','VIC_RACE'] = 4\n",
    "df.loc[df['VIC_RACE']=='ASIAN / PACIFIC ISLANDER','VIC_RACE'] = 5\n",
    "df.loc[df['VIC_RACE']=='AMERICAN INDIAN/ALASKAN NATIVE','VIC_RACE'] = 6\n",
    "df['VIC_RACE'] = df['VIC_RACE'].fillna(0)\n",
    "count_freq(df['VIC_RACE'])"
   ]
  },
  {
   "cell_type": "code",
   "execution_count": 14,
   "id": "7ea2ecfe",
   "metadata": {},
   "outputs": [
    {
     "name": "stdout",
     "output_type": "stream",
     "text": [
      "                   0       1       4      3      2      5     6\n",
      "value_counts  575800  371797  164572  95169  52177  36743  2417\n"
     ]
    }
   ],
   "source": [
    "df.loc[df['SUSP_RACE']=='UNKNOWN','SUSP_RACE'] = 0\n",
    "df.loc[df['SUSP_RACE']=='BLACK','SUSP_RACE'] = 1\n",
    "df.loc[df['SUSP_RACE']=='BLACK HISPANIC','SUSP_RACE'] = 2\n",
    "df.loc[df['SUSP_RACE']=='WHITE','SUSP_RACE'] = 3\n",
    "df.loc[df['SUSP_RACE']=='WHITE HISPANIC','SUSP_RACE'] = 4\n",
    "df.loc[df['SUSP_RACE']=='ASIAN / PACIFIC ISLANDER','SUSP_RACE'] = 5\n",
    "df.loc[df['SUSP_RACE']=='AMERICAN INDIAN/ALASKAN NATIVE','SUSP_RACE'] = 6\n",
    "df['SUSP_RACE'] = df['SUSP_RACE'].fillna(0)\n",
    "count_freq(df['SUSP_RACE'])"
   ]
  },
  {
   "cell_type": "code",
   "execution_count": 15,
   "id": "2d72736d",
   "metadata": {},
   "outputs": [
    {
     "name": "stdout",
     "output_type": "stream",
     "text": [
      "                   3       0       4       2      5      1\n",
      "value_counts  482379  336628  256419  119697  59060  44492\n",
      "                   0       3       4      2      1      5\n",
      "value_counts  726725  325483  113541  97036  24699  11191\n"
     ]
    }
   ],
   "source": [
    "# 统一年龄组 Nan&Unknow&Other-0   <18-1   18-24-2  25-44-3   45-64-4   65+-5\n",
    "age_group = {'<18':1, '18-24':2, '25-44':3 , '45-64':4, '65+':5}\n",
    "df['VIC_AGE_GROUP'] = df['VIC_AGE_GROUP'].apply(lambda x: age_group[x] if (x in age_group.keys()) else 0)\n",
    "df['SUSP_AGE_GROUP'] = df['SUSP_AGE_GROUP'].apply(lambda x: age_group[x] if (x in age_group.keys()) else 0)\n",
    "count_freq(df['VIC_AGE_GROUP'])\n",
    "count_freq(df['SUSP_AGE_GROUP'])"
   ]
  },
  {
   "cell_type": "code",
   "execution_count": 16,
   "id": "50c22349",
   "metadata": {},
   "outputs": [
    {
     "data": {
      "text/plain": [
       "\"for i in range(df.shape[0]):\\n    lat_lon = df.Lat_Lon[i].split(',')\\n    lat = float(lat_lon[0][1:])\\n    lon = float(lat_lon[1][1:-1])\\n    if (abs(lat - float(df.Latitude[i]) > pow(0.1,6))) | (abs(lon - float(df.Longitude[i]))>pow(0.1,6)) :\\n        print(lat,df.Latitude[i])\""
      ]
     },
     "execution_count": 16,
     "metadata": {},
     "output_type": "execute_result"
    }
   ],
   "source": [
    "# Check Lat Lon\n",
    "'''for i in range(df.shape[0]):\n",
    "    lat_lon = df.Lat_Lon[i].split(',')\n",
    "    lat = float(lat_lon[0][1:])\n",
    "    lon = float(lat_lon[1][1:-1])\n",
    "    if (abs(lat - float(df.Latitude[i]) > pow(0.1,6))) | (abs(lon - float(df.Longitude[i]))>pow(0.1,6)) :\n",
    "        print(lat,df.Latitude[i])'''"
   ]
  },
  {
   "cell_type": "code",
   "execution_count": 17,
   "id": "a7c94c59",
   "metadata": {},
   "outputs": [],
   "source": [
    "loc_desc = {'INSIDE':1, 'FRONT OF':2, 'OPPOSITE OF':3 , 'REAR OF':4}\n",
    "df['LOC_OF_OCCUR_DESC'] = df['LOC_OF_OCCUR_DESC'].apply(lambda x: loc_desc[x] if (x in loc_desc.keys()) else 0)"
   ]
  },
  {
   "cell_type": "code",
   "execution_count": 18,
   "id": "7c858c82",
   "metadata": {},
   "outputs": [
    {
     "data": {
      "text/plain": [
       "75"
      ]
     },
     "execution_count": 18,
     "metadata": {},
     "output_type": "execute_result"
    }
   ],
   "source": [
    "len(df.PREM_TYP_DESC.unique())"
   ]
  },
  {
   "cell_type": "code",
   "execution_count": 19,
   "id": "e0088dd9",
   "metadata": {},
   "outputs": [],
   "source": [
    "# 粗粒度分类\n",
    "OFNS_key_value = df.groupby(by = ['KY_CD',\"OFNS_DESC\"])['CMPLNT_NUM'].count()"
   ]
  },
  {
   "cell_type": "code",
   "execution_count": 20,
   "id": "b6ab257b",
   "metadata": {},
   "outputs": [],
   "source": [
    "# 细粒度分类\n",
    "PD_key_value = df.groupby(by = ['PD_CD',\"PD_DESC\"])['CMPLNT_NUM'].count()"
   ]
  },
  {
   "cell_type": "code",
   "execution_count": 21,
   "id": "5a32ac05",
   "metadata": {},
   "outputs": [],
   "source": [
    "crm_cd = {'COMPLETED':1, 'ATTEMPTED':2}\n",
    "df['CRM_ATPT_CPTD_CD'] = df['CRM_ATPT_CPTD_CD'].apply(lambda x: crm_cd[x] if (x in crm_cd.keys()) else 0)"
   ]
  },
  {
   "cell_type": "code",
   "execution_count": 22,
   "id": "5e4f1a02",
   "metadata": {},
   "outputs": [],
   "source": [
    "law_cd = {'FELONY':1, 'VIOLATION':2, 'MISDEMEANOR':3}\n",
    "df['LAW_CAT_CD'] = df['LAW_CAT_CD'].apply(lambda x: law_cd[x] if (x in law_cd.keys()) else 0)"
   ]
  },
  {
   "cell_type": "code",
   "execution_count": 23,
   "id": "7fd3a9f0",
   "metadata": {},
   "outputs": [
    {
     "name": "stdout",
     "output_type": "stream",
     "text": [
      "                    1      2    0\n",
      "value_counts  1278241  20331  103\n"
     ]
    }
   ],
   "source": [
    "count_freq(df['CRM_ATPT_CPTD_CD'])"
   ]
  },
  {
   "cell_type": "code",
   "execution_count": 24,
   "id": "187c84f8",
   "metadata": {},
   "outputs": [
    {
     "name": "stdout",
     "output_type": "stream",
     "text": [
      "                   3       1       2\n",
      "value_counts  671480  414267  212928\n"
     ]
    }
   ],
   "source": [
    "count_freq(df['LAW_CAT_CD'])"
   ]
  },
  {
   "cell_type": "code",
   "execution_count": 25,
   "id": "6fe6cf8f",
   "metadata": {},
   "outputs": [
    {
     "data": {
      "text/plain": [
       "CMPLNT_NUM                    int64\n",
       "CMPLNT_FR_DT         datetime64[ns]\n",
       "CMPLNT_FR_TM         datetime64[ns]\n",
       "KY_CD                         int64\n",
       "OFNS_DESC                    object\n",
       "PD_CD                       float64\n",
       "PD_DESC                      object\n",
       "CRM_ATPT_CPTD_CD              int64\n",
       "LAW_CAT_CD                    int64\n",
       "BORO_NM                      object\n",
       "LOC_OF_OCCUR_DESC             int64\n",
       "PREM_TYP_DESC                object\n",
       "JURIS_DESC                   object\n",
       "JURISDICTION_CODE           float64\n",
       "X_COORD_CD                  float64\n",
       "Y_COORD_CD                  float64\n",
       "SUSP_AGE_GROUP                int64\n",
       "SUSP_RACE                     int64\n",
       "SUSP_SEX                      int64\n",
       "Latitude                    float64\n",
       "Longitude                   float64\n",
       "Lat_Lon                      object\n",
       "VIC_AGE_GROUP                 int64\n",
       "VIC_RACE                      int64\n",
       "VIC_SEX                       int64\n",
       "dtype: object"
      ]
     },
     "execution_count": 25,
     "metadata": {},
     "output_type": "execute_result"
    }
   ],
   "source": [
    "df.dtypes"
   ]
  },
  {
   "cell_type": "code",
   "execution_count": 31,
   "id": "7e783ece",
   "metadata": {},
   "outputs": [
    {
     "data": {
      "text/plain": [
       "array(['MISCELLANEOUS PENAL LAW', 'HARRASSMENT 2', 'FELONY ASSAULT',\n",
       "       'ARSON', 'FORGERY', 'GRAND LARCENY', 'PETIT LARCENY',\n",
       "       'GRAND LARCENY OF MOTOR VEHICLE', 'ASSAULT 3 & RELATED OFFENSES',\n",
       "       'OFFENSES INVOLVING FRAUD', 'FRAUDS',\n",
       "       'OTHER STATE LAWS (NON PENAL LA', 'BURGLARY', 'ROBBERY',\n",
       "       'DANGEROUS WEAPONS', 'CRIMINAL MISCHIEF & RELATED OF',\n",
       "       'THEFT-FRAUD', 'VEHICLE AND TRAFFIC LAWS', 'DANGEROUS DRUGS',\n",
       "       'SEX CRIMES', 'OFF. AGNST PUB ORD SENSBLTY &', 'RAPE',\n",
       "       'ADMINISTRATIVE CODE', 'INTOXICATED & IMPAIRED DRIVING',\n",
       "       'OFFENSES AGAINST PUBLIC ADMINI', 'OFFENSES AGAINST THE PERSON',\n",
       "       'CRIMINAL TRESPASS', 'POSSESSION OF STOLEN PROPERTY',\n",
       "       'UNAUTHORIZED USE OF A VEHICLE', 'OTHER OFFENSES RELATED TO THEF',\n",
       "       'ENDAN WELFARE INCOMP', 'PETIT LARCENY OF MOTOR VEHICLE',\n",
       "       'NYS LAWS-UNCLASSIFIED FELONY',\n",
       "       'AGRICULTURE & MRKTS LAW-UNCLASSIFIED',\n",
       "       'KIDNAPPING & RELATED OFFENSES', 'FRAUDULENT ACCOSTING',\n",
       "       \"BURGLAR'S TOOLS\", 'THEFT OF SERVICES', 'GAMBLING',\n",
       "       'ANTICIPATORY OFFENSES', 'PROSTITUTION & RELATED OFFENSES',\n",
       "       'ALCOHOLIC BEVERAGE CONTROL LAW', 'ESCAPE 3',\n",
       "       'OFFENSES AGAINST PUBLIC SAFETY', 'OFFENSES RELATED TO CHILDREN',\n",
       "       'LOITERING/GAMBLING (CARDS, DIC', 'FELONY SEX CRIMES',\n",
       "       'HOMICIDE-NEGLIGENT,UNCLASSIFIE', 'JOSTLING',\n",
       "       'CHILD ABANDONMENT/NON SUPPORT', 'OTHER STATE LAWS', 'KIDNAPPING',\n",
       "       'NYS LAWS-UNCLASSIFIED VIOLATION', 'DISORDERLY CONDUCT',\n",
       "       'DISRUPTION OF A RELIGIOUS SERV', 'OFFENSES AGAINST MARRIAGE UNCL',\n",
       "       nan, 'HOMICIDE-NEGLIGENT-VEHICLE', 'INTOXICATED/IMPAIRED DRIVING',\n",
       "       'KIDNAPPING AND RELATED OFFENSES',\n",
       "       'UNLAWFUL POSS. WEAP. ON SCHOOL',\n",
       "       'OTHER STATE LAWS (NON PENAL LAW)', 'OTHER TRAFFIC INFRACTION',\n",
       "       'NEW YORK CITY HEALTH CODE', 'FORTUNE TELLING'], dtype=object)"
      ]
     },
     "execution_count": 31,
     "metadata": {},
     "output_type": "execute_result"
    }
   ],
   "source": [
    "df['OFNS_DESC'].unique()"
   ]
  },
  {
   "cell_type": "code",
   "execution_count": 27,
   "id": "33ccf0c0",
   "metadata": {},
   "outputs": [],
   "source": [
    "#df.to_csv('preprocess_311_2.csv')"
   ]
  },
  {
   "cell_type": "code",
   "execution_count": null,
   "id": "fc11136b",
   "metadata": {},
   "outputs": [],
   "source": []
  }
 ],
 "metadata": {
  "kernelspec": {
   "display_name": "Python [conda env:Practice1]",
   "language": "python",
   "name": "conda-env-Practice1-py"
  },
  "language_info": {
   "codemirror_mode": {
    "name": "ipython",
    "version": 3
   },
   "file_extension": ".py",
   "mimetype": "text/x-python",
   "name": "python",
   "nbconvert_exporter": "python",
   "pygments_lexer": "ipython3",
   "version": "3.8.13"
  }
 },
 "nbformat": 4,
 "nbformat_minor": 5
}
