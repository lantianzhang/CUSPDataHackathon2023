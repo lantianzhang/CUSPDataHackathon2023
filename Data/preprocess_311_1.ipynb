{
 "cells": [
  {
   "cell_type": "code",
   "execution_count": 1,
   "id": "31a9657b",
   "metadata": {},
   "outputs": [],
   "source": [
    "import pandas as pd\n",
    "import numpy as np"
   ]
  },
  {
   "cell_type": "markdown",
   "id": "add5a5c6",
   "metadata": {},
   "source": [
    "### 完成内容  \n",
    "1. 研究相关列选取\n",
    "2. 选取2019以后数据\n",
    "3. 选取地理位置在NYC的数据\n",
    "4. 去除错误时间数据\n",
    "5. 去除重复CMPLNT_NUM"
   ]
  },
  {
   "cell_type": "code",
   "execution_count": 2,
   "id": "b6d01e85",
   "metadata": {},
   "outputs": [
    {
     "name": "stderr",
     "output_type": "stream",
     "text": [
      "C:\\Users\\28600\\AppData\\Local\\Temp\\ipykernel_24968\\334311193.py:1: DtypeWarning: Columns (18,20) have mixed types. Specify dtype option on import or set low_memory=False.\n",
      "  df = pd.read_csv(\"NYPD_Complaint_Data_Historic.csv\")\n"
     ]
    }
   ],
   "source": [
    "df = pd.read_csv(\"NYPD_Complaint_Data_Historic.csv\")"
   ]
  },
  {
   "cell_type": "code",
   "execution_count": 3,
   "id": "06ad3a0a",
   "metadata": {},
   "outputs": [
    {
     "data": {
      "text/html": [
       "<div>\n",
       "<style scoped>\n",
       "    .dataframe tbody tr th:only-of-type {\n",
       "        vertical-align: middle;\n",
       "    }\n",
       "\n",
       "    .dataframe tbody tr th {\n",
       "        vertical-align: top;\n",
       "    }\n",
       "\n",
       "    .dataframe thead th {\n",
       "        text-align: right;\n",
       "    }\n",
       "</style>\n",
       "<table border=\"1\" class=\"dataframe\">\n",
       "  <thead>\n",
       "    <tr style=\"text-align: right;\">\n",
       "      <th></th>\n",
       "      <th>CMPLNT_NUM</th>\n",
       "      <th>CMPLNT_FR_DT</th>\n",
       "      <th>CMPLNT_FR_TM</th>\n",
       "      <th>CMPLNT_TO_DT</th>\n",
       "      <th>CMPLNT_TO_TM</th>\n",
       "      <th>ADDR_PCT_CD</th>\n",
       "      <th>RPT_DT</th>\n",
       "      <th>KY_CD</th>\n",
       "      <th>OFNS_DESC</th>\n",
       "      <th>PD_CD</th>\n",
       "      <th>...</th>\n",
       "      <th>SUSP_SEX</th>\n",
       "      <th>TRANSIT_DISTRICT</th>\n",
       "      <th>Latitude</th>\n",
       "      <th>Longitude</th>\n",
       "      <th>Lat_Lon</th>\n",
       "      <th>PATROL_BORO</th>\n",
       "      <th>STATION_NAME</th>\n",
       "      <th>VIC_AGE_GROUP</th>\n",
       "      <th>VIC_RACE</th>\n",
       "      <th>VIC_SEX</th>\n",
       "    </tr>\n",
       "  </thead>\n",
       "  <tbody>\n",
       "    <tr>\n",
       "      <th>0</th>\n",
       "      <td>506547392</td>\n",
       "      <td>03/29/2018</td>\n",
       "      <td>20:30:00</td>\n",
       "      <td>NaN</td>\n",
       "      <td>NaN</td>\n",
       "      <td>32.0</td>\n",
       "      <td>03/30/2018</td>\n",
       "      <td>351</td>\n",
       "      <td>CRIMINAL MISCHIEF &amp; RELATED OF</td>\n",
       "      <td>254.0</td>\n",
       "      <td>...</td>\n",
       "      <td>NaN</td>\n",
       "      <td>NaN</td>\n",
       "      <td>40.810877</td>\n",
       "      <td>-73.941064</td>\n",
       "      <td>(40.810877241, -73.941064151)</td>\n",
       "      <td>PATROL BORO MAN NORTH</td>\n",
       "      <td>NaN</td>\n",
       "      <td>25-44</td>\n",
       "      <td>WHITE</td>\n",
       "      <td>F</td>\n",
       "    </tr>\n",
       "    <tr>\n",
       "      <th>1</th>\n",
       "      <td>629632833</td>\n",
       "      <td>02/06/2018</td>\n",
       "      <td>23:15:00</td>\n",
       "      <td>NaN</td>\n",
       "      <td>NaN</td>\n",
       "      <td>52.0</td>\n",
       "      <td>02/07/2018</td>\n",
       "      <td>341</td>\n",
       "      <td>PETIT LARCENY</td>\n",
       "      <td>333.0</td>\n",
       "      <td>...</td>\n",
       "      <td>F</td>\n",
       "      <td>NaN</td>\n",
       "      <td>40.873671</td>\n",
       "      <td>-73.908014</td>\n",
       "      <td>(40.873671035, -73.908013649)</td>\n",
       "      <td>PATROL BORO BRONX</td>\n",
       "      <td>NaN</td>\n",
       "      <td>UNKNOWN</td>\n",
       "      <td>UNKNOWN</td>\n",
       "      <td>D</td>\n",
       "    </tr>\n",
       "    <tr>\n",
       "      <th>2</th>\n",
       "      <td>787203902</td>\n",
       "      <td>11/21/2018</td>\n",
       "      <td>00:15:00</td>\n",
       "      <td>11/21/2018</td>\n",
       "      <td>00:20:00</td>\n",
       "      <td>75.0</td>\n",
       "      <td>11/21/2018</td>\n",
       "      <td>341</td>\n",
       "      <td>PETIT LARCENY</td>\n",
       "      <td>321.0</td>\n",
       "      <td>...</td>\n",
       "      <td>F</td>\n",
       "      <td>NaN</td>\n",
       "      <td>40.651782</td>\n",
       "      <td>-73.885457</td>\n",
       "      <td>(40.651782232, -73.885456761)</td>\n",
       "      <td>PATROL BORO BKLYN NORTH</td>\n",
       "      <td>NaN</td>\n",
       "      <td>UNKNOWN</td>\n",
       "      <td>UNKNOWN</td>\n",
       "      <td>D</td>\n",
       "    </tr>\n",
       "    <tr>\n",
       "      <th>3</th>\n",
       "      <td>280364018</td>\n",
       "      <td>06/09/2018</td>\n",
       "      <td>21:42:00</td>\n",
       "      <td>06/09/2018</td>\n",
       "      <td>21:43:00</td>\n",
       "      <td>10.0</td>\n",
       "      <td>06/10/2018</td>\n",
       "      <td>361</td>\n",
       "      <td>OFF. AGNST PUB ORD SENSBLTY &amp;</td>\n",
       "      <td>639.0</td>\n",
       "      <td>...</td>\n",
       "      <td>M</td>\n",
       "      <td>NaN</td>\n",
       "      <td>40.759310</td>\n",
       "      <td>-73.994706</td>\n",
       "      <td>(40.759310399, -73.994706072)</td>\n",
       "      <td>PATROL BORO MAN SOUTH</td>\n",
       "      <td>NaN</td>\n",
       "      <td>18-24</td>\n",
       "      <td>WHITE HISPANIC</td>\n",
       "      <td>F</td>\n",
       "    </tr>\n",
       "    <tr>\n",
       "      <th>4</th>\n",
       "      <td>985800320</td>\n",
       "      <td>11/10/2018</td>\n",
       "      <td>19:40:00</td>\n",
       "      <td>11/10/2018</td>\n",
       "      <td>19:45:00</td>\n",
       "      <td>19.0</td>\n",
       "      <td>11/10/2018</td>\n",
       "      <td>341</td>\n",
       "      <td>PETIT LARCENY</td>\n",
       "      <td>333.0</td>\n",
       "      <td>...</td>\n",
       "      <td>F</td>\n",
       "      <td>NaN</td>\n",
       "      <td>40.764536</td>\n",
       "      <td>-73.970728</td>\n",
       "      <td>(40.764535539, -73.970728388)</td>\n",
       "      <td>PATROL BORO MAN NORTH</td>\n",
       "      <td>NaN</td>\n",
       "      <td>UNKNOWN</td>\n",
       "      <td>UNKNOWN</td>\n",
       "      <td>D</td>\n",
       "    </tr>\n",
       "  </tbody>\n",
       "</table>\n",
       "<p>5 rows × 35 columns</p>\n",
       "</div>"
      ],
      "text/plain": [
       "   CMPLNT_NUM CMPLNT_FR_DT CMPLNT_FR_TM CMPLNT_TO_DT CMPLNT_TO_TM  \\\n",
       "0   506547392   03/29/2018     20:30:00          NaN          NaN   \n",
       "1   629632833   02/06/2018     23:15:00          NaN          NaN   \n",
       "2   787203902   11/21/2018     00:15:00   11/21/2018     00:20:00   \n",
       "3   280364018   06/09/2018     21:42:00   06/09/2018     21:43:00   \n",
       "4   985800320   11/10/2018     19:40:00   11/10/2018     19:45:00   \n",
       "\n",
       "   ADDR_PCT_CD      RPT_DT  KY_CD                       OFNS_DESC  PD_CD  ...  \\\n",
       "0         32.0  03/30/2018    351  CRIMINAL MISCHIEF & RELATED OF  254.0  ...   \n",
       "1         52.0  02/07/2018    341                   PETIT LARCENY  333.0  ...   \n",
       "2         75.0  11/21/2018    341                   PETIT LARCENY  321.0  ...   \n",
       "3         10.0  06/10/2018    361   OFF. AGNST PUB ORD SENSBLTY &  639.0  ...   \n",
       "4         19.0  11/10/2018    341                   PETIT LARCENY  333.0  ...   \n",
       "\n",
       "  SUSP_SEX TRANSIT_DISTRICT   Latitude  Longitude  \\\n",
       "0      NaN              NaN  40.810877 -73.941064   \n",
       "1        F              NaN  40.873671 -73.908014   \n",
       "2        F              NaN  40.651782 -73.885457   \n",
       "3        M              NaN  40.759310 -73.994706   \n",
       "4        F              NaN  40.764536 -73.970728   \n",
       "\n",
       "                         Lat_Lon              PATROL_BORO STATION_NAME  \\\n",
       "0  (40.810877241, -73.941064151)    PATROL BORO MAN NORTH          NaN   \n",
       "1  (40.873671035, -73.908013649)        PATROL BORO BRONX          NaN   \n",
       "2  (40.651782232, -73.885456761)  PATROL BORO BKLYN NORTH          NaN   \n",
       "3  (40.759310399, -73.994706072)    PATROL BORO MAN SOUTH          NaN   \n",
       "4  (40.764535539, -73.970728388)    PATROL BORO MAN NORTH          NaN   \n",
       "\n",
       "   VIC_AGE_GROUP        VIC_RACE VIC_SEX  \n",
       "0          25-44           WHITE       F  \n",
       "1        UNKNOWN         UNKNOWN       D  \n",
       "2        UNKNOWN         UNKNOWN       D  \n",
       "3          18-24  WHITE HISPANIC       F  \n",
       "4        UNKNOWN         UNKNOWN       D  \n",
       "\n",
       "[5 rows x 35 columns]"
      ]
     },
     "execution_count": 3,
     "metadata": {},
     "output_type": "execute_result"
    }
   ],
   "source": [
    "df.head()"
   ]
  },
  {
   "cell_type": "code",
   "execution_count": 4,
   "id": "cd38e440",
   "metadata": {},
   "outputs": [],
   "source": [
    "df = df[['CMPLNT_NUM', 'CMPLNT_FR_DT', 'CMPLNT_FR_TM',  'KY_CD', 'OFNS_DESC', 'PD_CD',\n",
    "       'PD_DESC', 'CRM_ATPT_CPTD_CD', 'LAW_CAT_CD', 'BORO_NM',\n",
    "       'LOC_OF_OCCUR_DESC', 'PREM_TYP_DESC', 'JURIS_DESC', 'JURISDICTION_CODE', \n",
    "         'PARKS_NM', 'X_COORD_CD', 'Y_COORD_CD', 'SUSP_AGE_GROUP', 'SUSP_RACE', \n",
    "         'SUSP_SEX', 'Latitude', 'Longitude', 'Lat_Lon','VIC_AGE_GROUP', 'VIC_RACE', 'VIC_SEX']]"
   ]
  },
  {
   "cell_type": "markdown",
   "id": "4906dc1d",
   "metadata": {},
   "source": [
    "### pick columns\n",
    "* CMPLNT_NUM  \n",
    "  Randomly generated persistent ID for each complaint\n",
    "\n",
    "* CMPLNT_FR_DT  \t\n",
    "Exact date of occurrence for the reported event (or starting date of occurrence, if CMPLNT_TO_DT exists)\n",
    "\n",
    "* CMPLNT_FR_TM\t \n",
    "Exact time of occurrence for the reported event (or starting time of occurrence, if CMPLNT_TO_TM exists)\n",
    "\n",
    "* KY_CD\t \n",
    "Three digit offense classification code\n",
    "\n",
    "* OFNS_DESC\t \n",
    "Description of offense corresponding with key code\n",
    "\n",
    "* PD_CD\t \n",
    "Three digit internal classification code (more granular than Key Code)\n",
    "\n",
    "* PD_DESC\t \n",
    "Description of internal classification corresponding with PD code (more granular than Offense Description)\n",
    "\n",
    "* CRM_ATPT_CPTD_CD  \t\n",
    "Indicator of whether crime was successfully completed or attempted, but failed or was interrupted prematurely\n",
    "\n",
    "* LAW_CAT_CD  \t\n",
    "Level of offense: felony, misdemeanor, violation\n",
    "\n",
    "* BORO_NM\t  \n",
    "The name of the borough in which the incident occurred\n",
    "\n",
    "* LOC_OF_OCCUR_DESC  \t\n",
    "Specific location of occurrence in or around the premises; inside, opposite of, front of, rear of\n",
    "\n",
    "* PREM_TYP_DESC\t  \n",
    "Specific description of premises; grocery store, residence, street, etc.\n",
    "\n",
    "* JURIS_DESC  \t\n",
    "Description of the jurisdiction code\n",
    "\n",
    "* JURISDICTION_CODE  \t\n",
    "Jurisdiction responsible for incident. Either internal, like Police(0), Transit(1), and Housing(2); or external(3), like Correction, Port Authority, etc.\n",
    "\n",
    "* PARKS_NM  \t\n",
    "Name of NYC park, playground or greenspace of occurrence, if applicable (state parks are not included)\n",
    "\n",
    "* X_COORD_CD  \t\n",
    "X-coordinate for New York State Plane Coordinate System, Long Island Zone, NAD 83, units feet (FIPS 3104)\n",
    "\n",
    "* Y_COORD_CD  \t\n",
    "Y-coordinate for New York State Plane Coordinate System, Long Island Zone, NAD 83, units feet (FIPS 3104)\n",
    "\n",
    "* SUSP_AGE_GROUP  \t\n",
    "Suspect’s Age Group\n",
    "\n",
    "* SUSP_RACE  \t\n",
    "Suspect’s Race Description\n",
    "\n",
    "* SUSP_SEX  \t\n",
    "Suspect’s Sex Description\n",
    "\n",
    "* Latitude  \t\n",
    "Midblock Latitude coordinate for Global Coordinate System, WGS 1984, decimal degrees (EPSG 4326)\n",
    "\n",
    "* Longitude  \t\n",
    "Midblock Longitude coordinate for Global Coordinate System, WGS 1984, decimal degrees (EPSG 4326)\n",
    "\n",
    "* Lat_Lon\t  \n",
    "Geospatial Location Point (latitude and Longitude combined)\n",
    "\n",
    "* VIC_AGE_GROUP\t  \n",
    "Victim’s Age Group\n",
    "\n",
    "* VIC_RACE  \t\n",
    "Victim’s Race Description\n",
    "\n",
    "* VIC_SEX\t  \n",
    "Victim’s Sex Description"
   ]
  },
  {
   "cell_type": "code",
   "execution_count": 5,
   "id": "d736ed54",
   "metadata": {},
   "outputs": [],
   "source": [
    "df = df.drop_duplicates(subset = ['CMPLNT_NUM'])"
   ]
  },
  {
   "cell_type": "code",
   "execution_count": 6,
   "id": "d8566852",
   "metadata": {},
   "outputs": [
    {
     "data": {
      "text/plain": [
       "(7821537, 26)"
      ]
     },
     "execution_count": 6,
     "metadata": {},
     "output_type": "execute_result"
    }
   ],
   "source": [
    "df.shape"
   ]
  },
  {
   "cell_type": "code",
   "execution_count": 7,
   "id": "c2290cd0",
   "metadata": {},
   "outputs": [],
   "source": [
    "df.CMPLNT_FR_DT = pd.to_datetime(df.CMPLNT_FR_DT, errors = 'coerce')\n",
    "df.CMPLNT_FR_TM = pd.to_datetime(df.CMPLNT_FR_TM, errors = 'coerce', format='%H:%M:%S')\n",
    "df = df.dropna(subset = ['CMPLNT_FR_DT', 'CMPLNT_FR_TM', 'BORO_NM'])"
   ]
  },
  {
   "cell_type": "code",
   "execution_count": 8,
   "id": "02f9a88c",
   "metadata": {},
   "outputs": [],
   "source": [
    "# remove data <2019\n",
    "df['Year'] = df.CMPLNT_FR_DT.dt.year\n",
    "df = df[(df['Year'] < 2019) == False]"
   ]
  },
  {
   "cell_type": "code",
   "execution_count": 9,
   "id": "069086d8",
   "metadata": {},
   "outputs": [
    {
     "name": "stderr",
     "output_type": "stream",
     "text": [
      "D:\\Anaconda3\\envs\\Practice\\lib\\site-packages\\geopandas\\array.py:275: ShapelyDeprecationWarning: The array interface is deprecated and will no longer work in Shapely 2.0. Convert the '.coords' to a numpy array instead.\n",
      "  return GeometryArray(vectorized.points_from_xy(x, y, z), crs=crs)\n",
      "C:\\Users\\28600\\AppData\\Local\\Temp\\ipykernel_24968\\3529185204.py:8: UserWarning: CRS mismatch between the CRS of left geometries and the CRS of right geometries.\n",
      "Use `to_crs()` to reproject one of the input geometries to match the CRS of the other.\n",
      "\n",
      "Left CRS: None\n",
      "Right CRS: EPSG:2263\n",
      "\n",
      "  gdf_zip = gpd.sjoin(gdf, zips, how = 'left')\n"
     ]
    }
   ],
   "source": [
    "import geopandas as gpd\n",
    "from shapely.geometry import Point\n",
    "# keep rows with location within NYC\n",
    "zips = gpd.read_file('ZIP_CODE_040114/ZIP_CODE_040114.shp')\n",
    "gdf = gpd.GeoDataFrame(\n",
    "    df, geometry=gpd.points_from_xy(df.X_COORD_CD, df.Y_COORD_CD))\n",
    "# Do a spatial joint \n",
    "gdf_zip = gpd.sjoin(gdf, zips, how = 'left')\n",
    "# keep rows with location within NYC\n",
    "df = gdf_zip.dropna(subset = ['ZIPCODE'])\n",
    "# drop duplicated \"CMPLNT_NUM\"\n",
    "df = df.drop_duplicates(subset=['CMPLNT_NUM'])\n",
    "df = df[['CMPLNT_NUM', 'CMPLNT_FR_DT', 'CMPLNT_FR_TM',  'KY_CD', 'OFNS_DESC', 'PD_CD',\n",
    "       'PD_DESC', 'CRM_ATPT_CPTD_CD', 'LAW_CAT_CD', 'BORO_NM',\n",
    "       'LOC_OF_OCCUR_DESC', 'PREM_TYP_DESC', 'JURIS_DESC', 'JURISDICTION_CODE', \n",
    "         'PARKS_NM', 'X_COORD_CD', 'Y_COORD_CD', 'SUSP_AGE_GROUP', 'SUSP_RACE', \n",
    "         'SUSP_SEX', 'Latitude', 'Longitude', 'Lat_Lon','VIC_AGE_GROUP', 'VIC_RACE', 'VIC_SEX']]"
   ]
  },
  {
   "cell_type": "code",
   "execution_count": 10,
   "id": "3bfe274b",
   "metadata": {},
   "outputs": [
    {
     "data": {
      "text/plain": [
       "(1307203, 26)"
      ]
     },
     "execution_count": 10,
     "metadata": {},
     "output_type": "execute_result"
    }
   ],
   "source": [
    "df.shape"
   ]
  },
  {
   "cell_type": "code",
   "execution_count": 11,
   "id": "b7f78105",
   "metadata": {},
   "outputs": [],
   "source": [
    "df.to_csv('preprocess_311.csv')"
   ]
  }
 ],
 "metadata": {
  "kernelspec": {
   "display_name": "Python [conda env:Practice]",
   "language": "python",
   "name": "conda-env-Practice-py"
  },
  "language_info": {
   "codemirror_mode": {
    "name": "ipython",
    "version": 3
   },
   "file_extension": ".py",
   "mimetype": "text/x-python",
   "name": "python",
   "nbconvert_exporter": "python",
   "pygments_lexer": "ipython3",
   "version": "3.8.13"
  }
 },
 "nbformat": 4,
 "nbformat_minor": 5
}
